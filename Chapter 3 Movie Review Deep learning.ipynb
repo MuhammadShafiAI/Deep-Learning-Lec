{
 "cells": [
  {
   "cell_type": "markdown",
   "id": "3ec86a57",
   "metadata": {},
   "source": [
    "# Listing 3.1 Loading the IMDB dataset"
   ]
  },
  {
   "cell_type": "code",
   "execution_count": 4,
   "id": "f9073506",
   "metadata": {},
   "outputs": [
    {
     "name": "stdout",
     "output_type": "stream",
     "text": [
      "Downloading data from https://storage.googleapis.com/tensorflow/tf-keras-datasets/imdb.npz\n",
      "17464789/17464789 [==============================] - 11s 1us/step\n"
     ]
    }
   ],
   "source": [
    "from keras.datasets import imdb\n",
    "(train_data,train_labels),(test_data,test_labels)=imdb.load_data(num_words=10000)\n"
   ]
  },
  {
   "cell_type": "code",
   "execution_count": 5,
   "id": "fdd06a67",
   "metadata": {},
   "outputs": [
    {
     "data": {
      "text/plain": [
       "[1,\n",
       " 14,\n",
       " 22,\n",
       " 16,\n",
       " 43,\n",
       " 530,\n",
       " 973,\n",
       " 1622,\n",
       " 1385,\n",
       " 65,\n",
       " 458,\n",
       " 4468,\n",
       " 66,\n",
       " 3941,\n",
       " 4,\n",
       " 173,\n",
       " 36,\n",
       " 256,\n",
       " 5,\n",
       " 25,\n",
       " 100,\n",
       " 43,\n",
       " 838,\n",
       " 112,\n",
       " 50,\n",
       " 670,\n",
       " 2,\n",
       " 9,\n",
       " 35,\n",
       " 480,\n",
       " 284,\n",
       " 5,\n",
       " 150,\n",
       " 4,\n",
       " 172,\n",
       " 112,\n",
       " 167,\n",
       " 2,\n",
       " 336,\n",
       " 385,\n",
       " 39,\n",
       " 4,\n",
       " 172,\n",
       " 4536,\n",
       " 1111,\n",
       " 17,\n",
       " 546,\n",
       " 38,\n",
       " 13,\n",
       " 447,\n",
       " 4,\n",
       " 192,\n",
       " 50,\n",
       " 16,\n",
       " 6,\n",
       " 147,\n",
       " 2025,\n",
       " 19,\n",
       " 14,\n",
       " 22,\n",
       " 4,\n",
       " 1920,\n",
       " 4613,\n",
       " 469,\n",
       " 4,\n",
       " 22,\n",
       " 71,\n",
       " 87,\n",
       " 12,\n",
       " 16,\n",
       " 43,\n",
       " 530,\n",
       " 38,\n",
       " 76,\n",
       " 15,\n",
       " 13,\n",
       " 1247,\n",
       " 4,\n",
       " 22,\n",
       " 17,\n",
       " 515,\n",
       " 17,\n",
       " 12,\n",
       " 16,\n",
       " 626,\n",
       " 18,\n",
       " 2,\n",
       " 5,\n",
       " 62,\n",
       " 386,\n",
       " 12,\n",
       " 8,\n",
       " 316,\n",
       " 8,\n",
       " 106,\n",
       " 5,\n",
       " 4,\n",
       " 2223,\n",
       " 5244,\n",
       " 16,\n",
       " 480,\n",
       " 66,\n",
       " 3785,\n",
       " 33,\n",
       " 4,\n",
       " 130,\n",
       " 12,\n",
       " 16,\n",
       " 38,\n",
       " 619,\n",
       " 5,\n",
       " 25,\n",
       " 124,\n",
       " 51,\n",
       " 36,\n",
       " 135,\n",
       " 48,\n",
       " 25,\n",
       " 1415,\n",
       " 33,\n",
       " 6,\n",
       " 22,\n",
       " 12,\n",
       " 215,\n",
       " 28,\n",
       " 77,\n",
       " 52,\n",
       " 5,\n",
       " 14,\n",
       " 407,\n",
       " 16,\n",
       " 82,\n",
       " 2,\n",
       " 8,\n",
       " 4,\n",
       " 107,\n",
       " 117,\n",
       " 5952,\n",
       " 15,\n",
       " 256,\n",
       " 4,\n",
       " 2,\n",
       " 7,\n",
       " 3766,\n",
       " 5,\n",
       " 723,\n",
       " 36,\n",
       " 71,\n",
       " 43,\n",
       " 530,\n",
       " 476,\n",
       " 26,\n",
       " 400,\n",
       " 317,\n",
       " 46,\n",
       " 7,\n",
       " 4,\n",
       " 2,\n",
       " 1029,\n",
       " 13,\n",
       " 104,\n",
       " 88,\n",
       " 4,\n",
       " 381,\n",
       " 15,\n",
       " 297,\n",
       " 98,\n",
       " 32,\n",
       " 2071,\n",
       " 56,\n",
       " 26,\n",
       " 141,\n",
       " 6,\n",
       " 194,\n",
       " 7486,\n",
       " 18,\n",
       " 4,\n",
       " 226,\n",
       " 22,\n",
       " 21,\n",
       " 134,\n",
       " 476,\n",
       " 26,\n",
       " 480,\n",
       " 5,\n",
       " 144,\n",
       " 30,\n",
       " 5535,\n",
       " 18,\n",
       " 51,\n",
       " 36,\n",
       " 28,\n",
       " 224,\n",
       " 92,\n",
       " 25,\n",
       " 104,\n",
       " 4,\n",
       " 226,\n",
       " 65,\n",
       " 16,\n",
       " 38,\n",
       " 1334,\n",
       " 88,\n",
       " 12,\n",
       " 16,\n",
       " 283,\n",
       " 5,\n",
       " 16,\n",
       " 4472,\n",
       " 113,\n",
       " 103,\n",
       " 32,\n",
       " 15,\n",
       " 16,\n",
       " 5345,\n",
       " 19,\n",
       " 178,\n",
       " 32]"
      ]
     },
     "execution_count": 5,
     "metadata": {},
     "output_type": "execute_result"
    }
   ],
   "source": [
    "train_data[0]"
   ]
  },
  {
   "cell_type": "code",
   "execution_count": 6,
   "id": "a71e00b4",
   "metadata": {},
   "outputs": [
    {
     "data": {
      "text/plain": [
       "1"
      ]
     },
     "execution_count": 6,
     "metadata": {},
     "output_type": "execute_result"
    }
   ],
   "source": [
    "train_labels[0]"
   ]
  },
  {
   "cell_type": "code",
   "execution_count": 9,
   "id": "04a6fed3",
   "metadata": {},
   "outputs": [
    {
     "data": {
      "text/plain": [
       "9999"
      ]
     },
     "execution_count": 9,
     "metadata": {},
     "output_type": "execute_result"
    }
   ],
   "source": [
    "max([max(sequence) for sequence in train_data])"
   ]
  },
  {
   "cell_type": "code",
   "execution_count": 10,
   "id": "670a7552",
   "metadata": {},
   "outputs": [
    {
     "name": "stdout",
     "output_type": "stream",
     "text": [
      "Downloading data from https://storage.googleapis.com/tensorflow/tf-keras-datasets/imdb_word_index.json\n",
      "1641221/1641221 [==============================] - 1s 1us/step\n"
     ]
    }
   ],
   "source": [
    " word_index = imdb.get_word_index()"
   ]
  },
  {
   "cell_type": "code",
   "execution_count": 20,
   "id": "1d8802af",
   "metadata": {},
   "outputs": [],
   "source": [
    "reverse_word_index=dict(\n",
    "[(value,key) for (key,value) in word_index.items()])\n",
    "decode_review = ' '.join(\n",
    "[reverse_word_index.get(i-3,'?') for i in train_data[0]])"
   ]
  },
  {
   "cell_type": "markdown",
   "id": "c8dea714",
   "metadata": {},
   "source": [
    "# Listing 3.2 Encoding the integer sequences into a binary matrix\n"
   ]
  },
  {
   "cell_type": "code",
   "execution_count": 22,
   "id": "eda85f7d",
   "metadata": {},
   "outputs": [
    {
     "data": {
      "text/plain": [
       "array([0., 1., 1., ..., 0., 0., 0.])"
      ]
     },
     "execution_count": 22,
     "metadata": {},
     "output_type": "execute_result"
    }
   ],
   "source": [
    "import numpy as np\n",
    "\n",
    "def victorize_sequences(sequences, dimension=10000):\n",
    "    results =np.zeros((len(sequences),dimension))\n",
    "    for i, sequence in enumerate(sequences):\n",
    "        results[i,sequence] = 1.\n",
    "    return results\n",
    "\n",
    "x_train=victorize_sequences(train_data)\n",
    "x_test =victorize_sequences(test_data)\n"
   ]
  },
  {
   "cell_type": "code",
   "execution_count": 23,
   "id": "158eea27",
   "metadata": {},
   "outputs": [
    {
     "data": {
      "text/plain": [
       "array([0., 1., 1., ..., 0., 0., 0.])"
      ]
     },
     "execution_count": 23,
     "metadata": {},
     "output_type": "execute_result"
    }
   ],
   "source": [
    "x_train[0]"
   ]
  },
  {
   "cell_type": "code",
   "execution_count": 24,
   "id": "be28b654",
   "metadata": {},
   "outputs": [],
   "source": [
    "#  You should also vectorize your labels, which is straightforward:\n",
    "y_train=np.asarray(train_labels).astype('float32')\n",
    "y_test=np.asarray(test_labels).astype('float32')"
   ]
  },
  {
   "cell_type": "markdown",
   "id": "f43a3d20",
   "metadata": {},
   "source": [
    "# Listing 3.3 The model definition"
   ]
  },
  {
   "cell_type": "code",
   "execution_count": 27,
   "id": "0be4b67b",
   "metadata": {},
   "outputs": [],
   "source": [
    "from keras import models\n",
    "from keras import layers\n",
    "\n",
    "model = models.Sequential()\n",
    "model.add(layers.Dense(16,activation='relu', input_shape=(10000,)))\n",
    "model.add(layers.Dense(16,activation='relu'))\n",
    "model.add(layers.Dense(1,activation='sigmoid'))\n"
   ]
  },
  {
   "cell_type": "code",
   "execution_count": 29,
   "id": "889bc006",
   "metadata": {},
   "outputs": [],
   "source": [
    "model.compile(optimizer ='rmsprop',\n",
    "             loss='binary_crossentropy',\n",
    "             metrics=['accuracy'])"
   ]
  },
  {
   "cell_type": "markdown",
   "id": "4ceec938",
   "metadata": {},
   "source": [
    "# Listing 3.5 Configuring the optimizer"
   ]
  },
  {
   "cell_type": "code",
   "execution_count": 30,
   "id": "b7380dbe",
   "metadata": {},
   "outputs": [
    {
     "name": "stderr",
     "output_type": "stream",
     "text": [
      "C:\\Users\\HP\\anaconda3\\lib\\site-packages\\keras\\optimizers\\legacy\\rmsprop.py:143: UserWarning: The `lr` argument is deprecated, use `learning_rate` instead.\n",
      "  super().__init__(name, **kwargs)\n"
     ]
    }
   ],
   "source": [
    "this is custom optimizer\n",
    "# from keras import optimizers\n",
    "# model.compile(optimizer=optimizers.RMSprop(lr=0.001),\n",
    "#  loss='binary_crossentropy',\n",
    "#  metrics=['accuracy'])"
   ]
  },
  {
   "cell_type": "markdown",
   "id": "fc59eab1",
   "metadata": {},
   "source": [
    "# Listing 3.6 Using custom losses and metric"
   ]
  },
  {
   "cell_type": "code",
   "execution_count": 31,
   "id": "b9e51c9e",
   "metadata": {},
   "outputs": [],
   "source": [
    "# Custimize way of loss and metrices\n",
    "from keras import losses\n",
    "from keras import metrics\n",
    "model.compile(optimizer=optimizers.RMSprop(lr=0.001),\n",
    "              loss=losses.binary_crossentropy,\n",
    "               metrics=[metrics.binary_accuracy])"
   ]
  },
  {
   "cell_type": "markdown",
   "id": "31bf38df",
   "metadata": {},
   "source": [
    "# Listing 3.7 Setting aside a validation set"
   ]
  },
  {
   "cell_type": "code",
   "execution_count": 33,
   "id": "ed96d340",
   "metadata": {},
   "outputs": [],
   "source": [
    "x_val = x_train[:10000]\n",
    "partial_x_train = x_train[10000:]\n",
    "y_val = y_train[:10000]\n",
    "partial_y_train = y_train[10000:]"
   ]
  },
  {
   "cell_type": "markdown",
   "id": "b70eeb01",
   "metadata": {},
   "source": [
    "# Listing 3.8 Training your model"
   ]
  },
  {
   "cell_type": "code",
   "execution_count": 42,
   "id": "27f4f729",
   "metadata": {},
   "outputs": [
    {
     "name": "stdout",
     "output_type": "stream",
     "text": [
      "Epoch 1/20\n",
      "30/30 [==============================] - 17s 516ms/step - loss: 0.0153 - acc: 0.9975 - val_loss: 0.5682 - val_acc: 0.8701\n",
      "Epoch 2/20\n",
      "30/30 [==============================] - 1s 25ms/step - loss: 0.0102 - acc: 0.9992 - val_loss: 0.5952 - val_acc: 0.8697\n",
      "Epoch 3/20\n",
      "30/30 [==============================] - 1s 24ms/step - loss: 0.0104 - acc: 0.9984 - val_loss: 0.6188 - val_acc: 0.8690\n",
      "Epoch 4/20\n",
      "30/30 [==============================] - 1s 23ms/step - loss: 0.0084 - acc: 0.9984 - val_loss: 0.6547 - val_acc: 0.8642\n",
      "Epoch 5/20\n",
      "30/30 [==============================] - 1s 23ms/step - loss: 0.0046 - acc: 0.9999 - val_loss: 0.6687 - val_acc: 0.8676\n",
      "Epoch 6/20\n",
      "30/30 [==============================] - 1s 25ms/step - loss: 0.0101 - acc: 0.9978 - val_loss: 0.6797 - val_acc: 0.8679\n",
      "Epoch 7/20\n",
      "30/30 [==============================] - 1s 30ms/step - loss: 0.0032 - acc: 0.9999 - val_loss: 0.6978 - val_acc: 0.8659\n",
      "Epoch 8/20\n",
      "30/30 [==============================] - 1s 24ms/step - loss: 0.0072 - acc: 0.9983 - val_loss: 0.7202 - val_acc: 0.8676\n",
      "Epoch 9/20\n",
      "30/30 [==============================] - 1s 25ms/step - loss: 0.0023 - acc: 0.9999 - val_loss: 0.7341 - val_acc: 0.8666\n",
      "Epoch 10/20\n",
      "30/30 [==============================] - 1s 29ms/step - loss: 0.0066 - acc: 0.9983 - val_loss: 0.7911 - val_acc: 0.8653\n",
      "Epoch 11/20\n",
      "30/30 [==============================] - 1s 24ms/step - loss: 0.0019 - acc: 0.9999 - val_loss: 0.7725 - val_acc: 0.8692\n",
      "Epoch 12/20\n",
      "30/30 [==============================] - 1s 23ms/step - loss: 0.0016 - acc: 1.0000 - val_loss: 0.7968 - val_acc: 0.8655\n",
      "Epoch 13/20\n",
      "30/30 [==============================] - 1s 32ms/step - loss: 0.0049 - acc: 0.9991 - val_loss: 0.8094 - val_acc: 0.8671\n",
      "Epoch 14/20\n",
      "30/30 [==============================] - 1s 30ms/step - loss: 0.0012 - acc: 1.0000 - val_loss: 0.8258 - val_acc: 0.8652\n",
      "Epoch 15/20\n",
      "30/30 [==============================] - 1s 32ms/step - loss: 0.0037 - acc: 0.9993 - val_loss: 0.8687 - val_acc: 0.8680\n",
      "Epoch 16/20\n",
      "30/30 [==============================] - 1s 25ms/step - loss: 9.5457e-04 - acc: 1.0000 - val_loss: 0.8635 - val_acc: 0.8674\n",
      "Epoch 17/20\n",
      "30/30 [==============================] - 1s 25ms/step - loss: 8.2246e-04 - acc: 1.0000 - val_loss: 0.8868 - val_acc: 0.8687\n",
      "Epoch 18/20\n",
      "30/30 [==============================] - 1s 27ms/step - loss: 0.0049 - acc: 0.9987 - val_loss: 0.9317 - val_acc: 0.8656\n",
      "Epoch 19/20\n",
      "30/30 [==============================] - 1s 29ms/step - loss: 7.1067e-04 - acc: 1.0000 - val_loss: 0.9131 - val_acc: 0.8676\n",
      "Epoch 20/20\n",
      "30/30 [==============================] - 1s 23ms/step - loss: 5.7312e-04 - acc: 1.0000 - val_loss: 0.9316 - val_acc: 0.8677\n"
     ]
    }
   ],
   "source": [
    "model.compile(optimizer='rmsprop',\n",
    "             loss='binary_crossentropy',\n",
    "             metrics=['acc'])\n",
    "history=model.fit(partial_x_train,\n",
    "                 partial_y_train,\n",
    "                 epochs=20,\n",
    "                 batch_size=512,\n",
    "                 validation_data=(x_val,y_val))"
   ]
  },
  {
   "cell_type": "code",
   "execution_count": null,
   "id": "218e9d2e",
   "metadata": {},
   "outputs": [],
   "source": []
  },
  {
   "cell_type": "code",
   "execution_count": 43,
   "id": "e56c717b",
   "metadata": {},
   "outputs": [
    {
     "data": {
      "text/plain": [
       "dict_keys(['loss', 'acc', 'val_loss', 'val_acc'])"
      ]
     },
     "execution_count": 43,
     "metadata": {},
     "output_type": "execute_result"
    }
   ],
   "source": [
    "history_dict = history.history\n",
    "history_dict.keys()"
   ]
  },
  {
   "cell_type": "markdown",
   "id": "7a9bdbe2",
   "metadata": {},
   "source": [
    "# Listing 3.9 Plotting the training and validation loss"
   ]
  },
  {
   "cell_type": "code",
   "execution_count": 47,
   "id": "196b2473",
   "metadata": {},
   "outputs": [
    {
     "data": {
      "image/png": "[encoded data removed]",
      "text/plain": [
       "<Figure size 432x288 with 1 Axes>"
      ]
     },
     "metadata": {
      "needs_background": "light"
     },
     "output_type": "display_data"
    }
   ],
   "source": [
    "import matplotlib.pyplot as plt\n",
    "\n",
    "history_dict =history.history\n",
    "loss_values =history_dict['loss']\n",
    "val_loss_values=history_dict['val_loss']\n",
    "acc= history_dict['acc']\n",
    "epochs = range(1, len(acc) + 1)\n",
    "\n",
    "plt.plot(epochs,loss_values,'bo',label='Training_loss')\n",
    "plt.plot(epochs,val_loss_values,'b',label='Validation_loss')\n",
    "plt.title('Training and Validation loss')\n",
    "plt.xlabel('Epochs')\n",
    "plt.ylabel('Loss')\n",
    "plt.legend()\n",
    "plt.show()"
   ]
  },
  {
   "cell_type": "markdown",
   "id": "155cbc0c",
   "metadata": {},
   "source": [
    "# Listing 3.10 Plotting the training and validation accuracy"
   ]
  },
  {
   "cell_type": "code",
   "execution_count": 49,
   "id": "a52f4116",
   "metadata": {},
   "outputs": [
    {
     "data": {
      "image/png": "[encoded data removed]",
      "text/plain": [
       "<Figure size 432x288 with 1 Axes>"
      ]
     },
     "metadata": {
      "needs_background": "light"
     },
     "output_type": "display_data"
    }
   ],
   "source": [
    "plt.clf()\n",
    "acc_values=history_dict['acc']\n",
    "val_acc_values = history_dict['val_acc']\n",
    "plt.plot(epochs,acc,'bo',label='Training acc')\n",
    "plt.plot(epochs,val_acc_values,'b',label='Validation acc')\n",
    "plt.title('Training and Validation loss')\n",
    "plt.xlabel('Epochs')\n",
    "plt.ylabel('Loss')\n",
    "plt.legend()\n",
    "plt.show()"
   ]
  },
  {
   "cell_type": "markdown",
   "id": "bd0f13e1",
   "metadata": {},
   "source": [
    "# Listing 3.11 Retraining a model from scratch\n"
   ]
  },
  {
   "cell_type": "code",
   "execution_count": 52,
   "id": "e80f558e",
   "metadata": {},
   "outputs": [
    {
     "name": "stdout",
     "output_type": "stream",
     "text": [
      "Epoch 1/4\n",
      "49/49 [==============================] - 6s 25ms/step - loss: 0.4971 - acc: 0.8022\n",
      "Epoch 2/4\n",
      "49/49 [==============================] - 1s 23ms/step - loss: 0.2924 - acc: 0.9014\n",
      "Epoch 3/4\n",
      "49/49 [==============================] - 1s 23ms/step - loss: 0.2257 - acc: 0.9210\n",
      "Epoch 4/4\n",
      "49/49 [==============================] - 1s 23ms/step - loss: 0.1900 - acc: 0.9318\n",
      "782/782 [==============================] - 4s 4ms/step - loss: 0.3018 - acc: 0.8784\n"
     ]
    }
   ],
   "source": [
    "model= models.Sequential()\n",
    "model.add(layers.Dense(16,activation='relu',input_shape=(10000,)))\n",
    "model.add(layers.Dense(16,activation='relu'))\n",
    "model.add(layers.Dense(1,activation='sigmoid'))\n",
    "\n",
    "model.compile(optimizer ='rmsprop',\n",
    "             loss='binary_crossentropy',\n",
    "             metrics=['acc'])\n",
    "\n",
    "model.fit(x_train,y_train,epochs=4,batch_size=512)\n",
    "results=model.evaluate(x_test,y_test)"
   ]
  },
  {
   "cell_type": "code",
   "execution_count": 53,
   "id": "fbfb81ad",
   "metadata": {},
   "outputs": [
    {
     "data": {
      "text/plain": [
       "[0.3017926514148712, 0.8783599734306335]"
      ]
     },
     "execution_count": 53,
     "metadata": {},
     "output_type": "execute_result"
    }
   ],
   "source": [
    "results"
   ]
  },
  {
   "cell_type": "code",
   "execution_count": 54,
   "id": "36ff1768",
   "metadata": {},
   "outputs": [
    {
     "name": "stdout",
     "output_type": "stream",
     "text": [
      "782/782 [==============================] - 46s 4ms/step\n"
     ]
    },
    {
     "data": {
      "text/plain": [
       "array([[0.17705637],\n",
       "       [0.9998563 ],\n",
       "       [0.53530055],\n",
       "       ...,\n",
       "       [0.08417322],\n",
       "       [0.06536047],\n",
       "       [0.3512119 ]], dtype=float32)"
      ]
     },
     "execution_count": 54,
     "metadata": {},
     "output_type": "execute_result"
    }
   ],
   "source": [
    "model.predict(x_test)"
   ]
  },
  {
   "cell_type": "markdown",
   "id": "72373e06",
   "metadata": {},
   "source": [
    "#  Classifying newswires: \n",
    "a multiclass classification example"
   ]
  },
  {
   "cell_type": "markdown",
   "id": "1a6407ad",
   "metadata": {},
   "source": [
    "## Listing 3.12 Loading the Reuters dataset"
   ]
  },
  {
   "cell_type": "code",
   "execution_count": 95,
   "id": "116b856c",
   "metadata": {},
   "outputs": [],
   "source": [
    "from keras.datasets import reuters\n",
    "(train_data,train_labels),(test_data,test_labels) = reuters.load_data(num_words=10000)\n"
   ]
  },
  {
   "cell_type": "code",
   "execution_count": 96,
   "id": "6d79befa",
   "metadata": {},
   "outputs": [
    {
     "data": {
      "text/plain": [
       "8982"
      ]
     },
     "execution_count": 96,
     "metadata": {},
     "output_type": "execute_result"
    }
   ],
   "source": [
    "len(train_data)"
   ]
  },
  {
   "cell_type": "code",
   "execution_count": 97,
   "id": "804f4d0d",
   "metadata": {},
   "outputs": [
    {
     "data": {
      "text/plain": [
       "2246"
      ]
     },
     "execution_count": 97,
     "metadata": {},
     "output_type": "execute_result"
    }
   ],
   "source": [
    "len(test_data)"
   ]
  },
  {
   "cell_type": "code",
   "execution_count": 98,
   "id": "1eeff80e",
   "metadata": {},
   "outputs": [
    {
     "data": {
      "text/plain": [
       "[1,\n",
       " 3267,\n",
       " 699,\n",
       " 3434,\n",
       " 2295,\n",
       " 56,\n",
       " 2,\n",
       " 7511,\n",
       " 9,\n",
       " 56,\n",
       " 3906,\n",
       " 1073,\n",
       " 81,\n",
       " 5,\n",
       " 1198,\n",
       " 57,\n",
       " 366,\n",
       " 737,\n",
       " 132,\n",
       " 20,\n",
       " 4093,\n",
       " 7,\n",
       " 2,\n",
       " 49,\n",
       " 2295,\n",
       " 2,\n",
       " 1037,\n",
       " 3267,\n",
       " 699,\n",
       " 3434,\n",
       " 8,\n",
       " 7,\n",
       " 10,\n",
       " 241,\n",
       " 16,\n",
       " 855,\n",
       " 129,\n",
       " 231,\n",
       " 783,\n",
       " 5,\n",
       " 4,\n",
       " 587,\n",
       " 2295,\n",
       " 2,\n",
       " 2,\n",
       " 775,\n",
       " 7,\n",
       " 48,\n",
       " 34,\n",
       " 191,\n",
       " 44,\n",
       " 35,\n",
       " 1795,\n",
       " 505,\n",
       " 17,\n",
       " 12]"
      ]
     },
     "execution_count": 98,
     "metadata": {},
     "output_type": "execute_result"
    }
   ],
   "source": [
    "train_data[1]"
   ]
  },
  {
   "cell_type": "markdown",
   "id": "fd9461c7",
   "metadata": {},
   "source": [
    "## Listing 3.13 Decoding newswires back to text"
   ]
  },
  {
   "cell_type": "code",
   "execution_count": 99,
   "id": "21e8ffc3",
   "metadata": {},
   "outputs": [],
   "source": [
    "word_index = reuters.get_word_index()\n",
    "reverse_word_index =dict([(value,key) for (key,value) in word_index.items()])\n",
    "decode_newswire=' '.join([reverse_word_index.get(i-3,'?') for i in train_data[0]])"
   ]
  },
  {
   "cell_type": "code",
   "execution_count": 100,
   "id": "22f6b1f7",
   "metadata": {},
   "outputs": [
    {
     "data": {
      "text/plain": [
       "4"
      ]
     },
     "execution_count": 100,
     "metadata": {},
     "output_type": "execute_result"
    }
   ],
   "source": [
    "train_labels[12]"
   ]
  },
  {
   "cell_type": "markdown",
   "id": "c20f4204",
   "metadata": {},
   "source": [
    "## Listing 3.14 Encoding the data"
   ]
  },
  {
   "cell_type": "code",
   "execution_count": 111,
   "id": "b969d6d6",
   "metadata": {},
   "outputs": [
    {
     "name": "stdout",
     "output_type": "stream",
     "text": [
      "x_train type: <class 'numpy.ndarray'>\n",
      "x_train sample: [[0. 1. 1. ... 0. 0. 0.]\n",
      " [0. 0. 0. ... 0. 0. 0.]\n",
      " [0. 0. 0. ... 0. 0. 0.]\n",
      " [0. 0. 0. ... 0. 0. 0.]\n",
      " [0. 0. 0. ... 0. 0. 0.]]\n"
     ]
    }
   ],
   "source": [
    "import numpy as np\n",
    "\n",
    "def vectorize_sequences(sequences, dimension=10000):\n",
    "    results =np.zeros((len(sequences),dimension))\n",
    "    for i, sequence in enumerate(sequences):\n",
    "        results[i,sequence]=1\n",
    "        return results\n",
    "x_train = vectorize_sequences(train_data)\n",
    "x_test = vectorize_sequences(test_data)\n",
    "\n"
   ]
  },
  {
   "cell_type": "code",
   "execution_count": 112,
   "id": "ca9ead16",
   "metadata": {},
   "outputs": [],
   "source": [
    "def to_one_hot(labels,dimension=46):\n",
    "    results =np.zeros((len(labels),dimension))\n",
    "    for i, label in enumerate(labels):\n",
    "        results[i,label]=1.\n",
    "        return results\n",
    "one_hot_train_labels=to_one_hot(train_labels)\n",
    "one_hot_test_labels =to_one_hot(test_labels)\n",
    "# Below is the buit in way of keras one hot encoding mean from word to number\n",
    "# from keras.utils.np_utils import to_categorical\n",
    "#  one_hot_train_labels = to_categorical(train_labels)\n",
    "#  one_hot_test_labels = to_categorical(test_labels)"
   ]
  },
  {
   "cell_type": "markdown",
   "id": "d9441e5e",
   "metadata": {},
   "source": [
    "## Listing 3.15 Model definition"
   ]
  },
  {
   "cell_type": "code",
   "execution_count": 113,
   "id": "73c32016",
   "metadata": {},
   "outputs": [],
   "source": [
    "# In the previous\n",
    "#  example, you used 16-dimensional intermediate layers, but a 16-dimensional space may\n",
    "#  be too limited to learn to separate 46 different classes: such small layers may act as infor\n",
    "# mation bottlenecks, permanently dropping relevant information.\n",
    "#  For this reason you’ll use larger layers. Let’s go with 64 units.\n",
    "from keras import models\n",
    "from keras import layers\n",
    "\n",
    "model = models.Sequential()\n",
    "model.add(layers.Dense(64,activation='relu', input_shape=(10000,)))\n",
    "model.add(layers.Dense(64,activation='relu'))\n",
    "model.add(layers.Dense(46,activation='softmax'))\n",
    "\n",
    "#  The best loss function to use in this case is categorical_crossentropy. It measures\n",
    "#  the distance between two probability distributions: here, between the probability dis\n",
    "# tribution output by the network and the true distribution of the labels. By minimizing\n",
    "#  the distance between these two distributions, you train the network to output some\n",
    "# thing as close as possible to the true labels.\n",
    "model.compile(optimizer='rmsprop',\n",
    "             loss='categorical_crossentropy',\n",
    "             metrics=['acc'])"
   ]
  },
  {
   "cell_type": "markdown",
   "id": "42ca633c",
   "metadata": {},
   "source": [
    "# Validating your approach\n",
    " Let’s set apart 1,000 samples in the training data to use as a validation set."
   ]
  },
  {
   "cell_type": "markdown",
   "id": "c2569688",
   "metadata": {},
   "source": [
    "## Listing 3.17 Setting aside a validation set"
   ]
  },
  {
   "cell_type": "code",
   "execution_count": 114,
   "id": "1cbb4e8b",
   "metadata": {},
   "outputs": [],
   "source": [
    "x_val = x_train[:1000]\n",
    "partial_x_train = x_train[1000:]\n",
    "\n",
    "y_val = one_hot_train_labels[:1000]\n",
    "partial_y_train = one_hot_train_labels[1000:]\n"
   ]
  },
  {
   "cell_type": "markdown",
   "id": "b7267b4a",
   "metadata": {},
   "source": [
    "##  Now, let’s train the network for 20 epochs.\n",
    " Listing 3.18 Training the model"
   ]
  },
  {
   "cell_type": "code",
   "execution_count": 115,
   "id": "4632fbdb",
   "metadata": {},
   "outputs": [
    {
     "name": "stdout",
     "output_type": "stream",
     "text": [
      "Epoch 1/20\n",
      "16/16 [==============================] - 6s 251ms/step - loss: 0.0000e+00 - acc: 1.0000 - val_loss: 0.0038 - val_acc: 0.9990\n",
      "Epoch 2/20\n",
      "16/16 [==============================] - 1s 53ms/step - loss: 0.0000e+00 - acc: 1.0000 - val_loss: 0.0038 - val_acc: 0.9990\n",
      "Epoch 3/20\n",
      "16/16 [==============================] - 1s 53ms/step - loss: 0.0000e+00 - acc: 1.0000 - val_loss: 0.0038 - val_acc: 0.9990\n",
      "Epoch 4/20\n",
      "16/16 [==============================] - 1s 52ms/step - loss: 0.0000e+00 - acc: 1.0000 - val_loss: 0.0038 - val_acc: 0.9990\n",
      "Epoch 5/20\n",
      "16/16 [==============================] - 1s 46ms/step - loss: 0.0000e+00 - acc: 1.0000 - val_loss: 0.0038 - val_acc: 0.9990\n",
      "Epoch 6/20\n",
      "16/16 [==============================] - 1s 55ms/step - loss: 0.0000e+00 - acc: 1.0000 - val_loss: 0.0038 - val_acc: 0.9990\n",
      "Epoch 7/20\n",
      "16/16 [==============================] - 1s 76ms/step - loss: 0.0000e+00 - acc: 1.0000 - val_loss: 0.0038 - val_acc: 0.9990\n",
      "Epoch 8/20\n",
      "16/16 [==============================] - 1s 56ms/step - loss: 0.0000e+00 - acc: 1.0000 - val_loss: 0.0038 - val_acc: 0.9990\n",
      "Epoch 9/20\n",
      "16/16 [==============================] - 1s 40ms/step - loss: 0.0000e+00 - acc: 1.0000 - val_loss: 0.0038 - val_acc: 0.9990\n",
      "Epoch 10/20\n",
      "16/16 [==============================] - 1s 57ms/step - loss: 0.0000e+00 - acc: 1.0000 - val_loss: 0.0038 - val_acc: 0.9990\n",
      "Epoch 11/20\n",
      "16/16 [==============================] - 1s 38ms/step - loss: 0.0000e+00 - acc: 1.0000 - val_loss: 0.0038 - val_acc: 0.9990\n",
      "Epoch 12/20\n",
      "16/16 [==============================] - 1s 38ms/step - loss: 0.0000e+00 - acc: 1.0000 - val_loss: 0.0038 - val_acc: 0.9990\n",
      "Epoch 13/20\n",
      "16/16 [==============================] - 1s 40ms/step - loss: 0.0000e+00 - acc: 1.0000 - val_loss: 0.0038 - val_acc: 0.9990\n",
      "Epoch 14/20\n",
      "16/16 [==============================] - 1s 41ms/step - loss: 0.0000e+00 - acc: 1.0000 - val_loss: 0.0038 - val_acc: 0.9990\n",
      "Epoch 15/20\n",
      "16/16 [==============================] - 1s 40ms/step - loss: 0.0000e+00 - acc: 1.0000 - val_loss: 0.0038 - val_acc: 0.9990\n",
      "Epoch 16/20\n",
      "16/16 [==============================] - 1s 55ms/step - loss: 0.0000e+00 - acc: 1.0000 - val_loss: 0.0038 - val_acc: 0.9990\n",
      "Epoch 17/20\n",
      "16/16 [==============================] - 1s 43ms/step - loss: 0.0000e+00 - acc: 1.0000 - val_loss: 0.0038 - val_acc: 0.9990\n",
      "Epoch 18/20\n",
      "16/16 [==============================] - 1s 39ms/step - loss: 0.0000e+00 - acc: 1.0000 - val_loss: 0.0038 - val_acc: 0.9990\n",
      "Epoch 19/20\n",
      "16/16 [==============================] - 1s 42ms/step - loss: 0.0000e+00 - acc: 1.0000 - val_loss: 0.0038 - val_acc: 0.9990\n",
      "Epoch 20/20\n",
      "16/16 [==============================] - 1s 39ms/step - loss: 0.0000e+00 - acc: 1.0000 - val_loss: 0.0038 - val_acc: 0.9990\n"
     ]
    }
   ],
   "source": [
    "history =model.fit(partial_x_train,\n",
    "                  partial_y_train,\n",
    "                  epochs=20,\n",
    "                  batch_size=512,\n",
    "                  validation_data=(x_val,y_val))"
   ]
  },
  {
   "cell_type": "markdown",
   "id": "f13aa170",
   "metadata": {},
   "source": [
    "## Listing 3.19 Plotting the training and validation loss"
   ]
  },
  {
   "cell_type": "code",
   "execution_count": 116,
   "id": "d43b5a83",
   "metadata": {},
   "outputs": [
    {
     "data": {
      "image/png": "[encoded data removed]",
      "text/plain": [
       "<Figure size 432x288 with 1 Axes>"
      ]
     },
     "metadata": {
      "needs_background": "light"
     },
     "output_type": "display_data"
    }
   ],
   "source": [
    "import matplotlib.pyplot as plt\n",
    "\n",
    "loss=history.history['loss']\n",
    "val_loss= history.history['val_loss']\n",
    "\n",
    "epochs = range(1, len(loss) + 1)\n",
    "plt.plot(epochs, loss, 'bo', label='Training loss')\n",
    "plt.plot(epochs, val_loss, 'b', label='Validation loss')\n",
    "plt.title('Training and validation loss')\n",
    "plt.xlabel('Epochs')\n",
    "plt.ylabel('Loss')\n",
    "plt.legend()\n",
    "plt.show()"
   ]
  },
  {
   "cell_type": "markdown",
   "id": "402109c6",
   "metadata": {},
   "source": [
    "## Listing 3.20 Plotting the training and validation accuracy"
   ]
  },
  {
   "cell_type": "code",
   "execution_count": 117,
   "id": "76effe51",
   "metadata": {},
   "outputs": [
    {
     "data": {
      "text/plain": [
       "<Figure size 432x288 with 0 Axes>"
      ]
     },
     "metadata": {},
     "output_type": "display_data"
    }
   ],
   "source": [
    "plt.clf()"
   ]
  },
  {
   "cell_type": "code",
   "execution_count": 118,
   "id": "945755ca",
   "metadata": {},
   "outputs": [
    {
     "data": {
      "image/png": "[encoded data removed]",
      "text/plain": [
       "<Figure size 432x288 with 1 Axes>"
      ]
     },
     "metadata": {
      "needs_background": "light"
     },
     "output_type": "display_data"
    }
   ],
   "source": [
    "acc = history.history['acc']\n",
    "val_acc = history.history['val_acc']\n",
    "plt.plot(epochs, acc, 'bo', label='Training acc')\n",
    "plt.plot(epochs, val_acc, 'b', label='Validation acc')\n",
    "plt.title('Training and validation accuracy')\n",
    "plt.xlabel('Epochs')\n",
    "plt.ylabel('Loss')\n",
    "plt.legend()\n",
    "plt.show()"
   ]
  },
  {
   "cell_type": "markdown",
   "id": "cb13b589",
   "metadata": {},
   "source": [
    "## Listing 3.21 Retraining a model from scratch"
   ]
  },
  {
   "cell_type": "code",
   "execution_count": 119,
   "id": "bedca93d",
   "metadata": {},
   "outputs": [
    {
     "name": "stdout",
     "output_type": "stream",
     "text": [
      "Epoch 1/9\n",
      "16/16 [==============================] - 9s 108ms/step - loss: 0.0000e+00 - accuracy: 1.0000 - val_loss: 0.0038 - val_accuracy: 0.9990\n",
      "Epoch 2/9\n",
      "16/16 [==============================] - 1s 61ms/step - loss: 0.0000e+00 - accuracy: 1.0000 - val_loss: 0.0038 - val_accuracy: 0.9990\n",
      "Epoch 3/9\n",
      "16/16 [==============================] - 1s 60ms/step - loss: 0.0000e+00 - accuracy: 1.0000 - val_loss: 0.0038 - val_accuracy: 0.9990\n",
      "Epoch 4/9\n",
      "16/16 [==============================] - 1s 57ms/step - loss: 0.0000e+00 - accuracy: 1.0000 - val_loss: 0.0038 - val_accuracy: 0.9990\n",
      "Epoch 5/9\n",
      "16/16 [==============================] - 1s 59ms/step - loss: 0.0000e+00 - accuracy: 1.0000 - val_loss: 0.0038 - val_accuracy: 0.9990\n",
      "Epoch 6/9\n",
      "16/16 [==============================] - 1s 69ms/step - loss: 0.0000e+00 - accuracy: 1.0000 - val_loss: 0.0038 - val_accuracy: 0.9990\n",
      "Epoch 7/9\n",
      "16/16 [==============================] - 1s 70ms/step - loss: 0.0000e+00 - accuracy: 1.0000 - val_loss: 0.0038 - val_accuracy: 0.9990\n",
      "Epoch 8/9\n",
      "16/16 [==============================] - 1s 62ms/step - loss: 0.0000e+00 - accuracy: 1.0000 - val_loss: 0.0038 - val_accuracy: 0.9990\n",
      "Epoch 9/9\n",
      "16/16 [==============================] - 1s 63ms/step - loss: 0.0000e+00 - accuracy: 1.0000 - val_loss: 0.0038 - val_accuracy: 0.9990\n",
      "71/71 [==============================] - 0s 6ms/step - loss: 0.0017 - accuracy: 0.9996\n"
     ]
    }
   ],
   "source": [
    "model = models.Sequential()\n",
    "model.add(layers.Dense(64, activation='relu', input_shape=(10000,)))\n",
    "model.add(layers.Dense(64, activation='relu'))\n",
    "model.add(layers.Dense(46, activation='softmax'))\n",
    "\n",
    "model.compile(optimizer='rmsprop',\n",
    "loss='categorical_crossentropy',\n",
    "metrics=['accuracy'])\n",
    "\n",
    "model.fit(partial_x_train,\n",
    "partial_y_train,\n",
    "epochs=9,\n",
    "batch_size=512,\n",
    "validation_data=(x_val, y_val))\n",
    "\n",
    "results = model.evaluate(x_test, one_hot_test_labels)"
   ]
  },
  {
   "cell_type": "code",
   "execution_count": 120,
   "id": "950b0aab",
   "metadata": {},
   "outputs": [
    {
     "data": {
      "text/plain": [
       "[0.0017198349814862013, 0.9995547533035278]"
      ]
     },
     "execution_count": 120,
     "metadata": {},
     "output_type": "execute_result"
    }
   ],
   "source": [
    "results"
   ]
  },
  {
   "cell_type": "code",
   "execution_count": 121,
   "id": "0fa35850",
   "metadata": {},
   "outputs": [
    {
     "data": {
      "text/plain": [
       "0.18655387355298308"
      ]
     },
     "execution_count": 121,
     "metadata": {},
     "output_type": "execute_result"
    }
   ],
   "source": [
    "import copy\n",
    "test_labels_copy = copy.copy(test_labels)\n",
    "np.random.shuffle(test_labels_copy)\n",
    "hits_array = np.array(test_labels) == np.array(test_labels_copy)\n",
    "float(np.sum(hits_array)) / len(test_labels)"
   ]
  },
  {
   "cell_type": "markdown",
   "id": "d92b68c4",
   "metadata": {},
   "source": [
    "## Listing 3.22 Generating predictions for new data"
   ]
  },
  {
   "cell_type": "code",
   "execution_count": 122,
   "id": "161cd834",
   "metadata": {},
   "outputs": [
    {
     "name": "stdout",
     "output_type": "stream",
     "text": [
      "71/71 [==============================] - 0s 5ms/step\n"
     ]
    }
   ],
   "source": [
    "predictions =model.predict(x_test)"
   ]
  },
  {
   "cell_type": "code",
   "execution_count": 123,
   "id": "206db345",
   "metadata": {},
   "outputs": [
    {
     "data": {
      "text/plain": [
       "(46,)"
      ]
     },
     "execution_count": 123,
     "metadata": {},
     "output_type": "execute_result"
    }
   ],
   "source": [
    "predictions[0].shape"
   ]
  },
  {
   "cell_type": "code",
   "execution_count": 124,
   "id": "06d4fde6",
   "metadata": {},
   "outputs": [
    {
     "data": {
      "text/plain": [
       "1.0"
      ]
     },
     "execution_count": 124,
     "metadata": {},
     "output_type": "execute_result"
    }
   ],
   "source": [
    "np.sum(predictions[0])"
   ]
  },
  {
   "cell_type": "code",
   "execution_count": 125,
   "id": "6e1421c4",
   "metadata": {},
   "outputs": [
    {
     "data": {
      "text/plain": [
       "20"
      ]
     },
     "execution_count": 125,
     "metadata": {},
     "output_type": "execute_result"
    }
   ],
   "source": [
    "np.argmax(predictions[0])"
   ]
  },
  {
   "cell_type": "code",
   "execution_count": 126,
   "id": "82b4c754",
   "metadata": {},
   "outputs": [],
   "source": [
    "y_train = np.array(train_labels)\n",
    "y_test = np.array(test_labels)"
   ]
  },
  {
   "cell_type": "code",
   "execution_count": 127,
   "id": "4d9e70fa",
   "metadata": {},
   "outputs": [],
   "source": [
    "model.compile(optimizer='rmsprop',\n",
    "loss='sparse_categorical_crossentropy',\n",
    "metrics=['acc'])"
   ]
  },
  {
   "cell_type": "markdown",
   "id": "a4863ef1",
   "metadata": {},
   "source": [
    "## The importance of having sufficiently large intermediate layers\n",
    " We mentioned earlier that because the final outputs are 46-dimensional, you should\n",
    " avoid intermediate layers with many fewer than 46 hidden units. Now let’s see what\n",
    " happens when you introduce an information bottleneck by having intermediate layers\n",
    " that are significantly less than 46-dimensional: for example, 4-dimensional"
   ]
  },
  {
   "cell_type": "markdown",
   "id": "8c7939de",
   "metadata": {},
   "source": [
    "## Listing 3.23 A model with an information bottleneck"
   ]
  },
  {
   "cell_type": "code",
   "execution_count": 128,
   "id": "7ddc01ed",
   "metadata": {},
   "outputs": [
    {
     "name": "stdout",
     "output_type": "stream",
     "text": [
      "Epoch 1/20\n",
      "63/63 [==============================] - 4s 34ms/step - loss: 0.0000e+00 - accuracy: 1.0000 - val_loss: 0.0038 - val_accuracy: 0.9990\n",
      "Epoch 2/20\n",
      "63/63 [==============================] - 2s 27ms/step - loss: 0.0000e+00 - accuracy: 1.0000 - val_loss: 0.0038 - val_accuracy: 0.9990\n",
      "Epoch 3/20\n",
      "63/63 [==============================] - 2s 24ms/step - loss: 0.0000e+00 - accuracy: 1.0000 - val_loss: 0.0038 - val_accuracy: 0.9990\n",
      "Epoch 4/20\n",
      "63/63 [==============================] - 2s 31ms/step - loss: 0.0000e+00 - accuracy: 1.0000 - val_loss: 0.0038 - val_accuracy: 0.9990\n",
      "Epoch 5/20\n",
      "63/63 [==============================] - 2s 27ms/step - loss: 0.0000e+00 - accuracy: 1.0000 - val_loss: 0.0038 - val_accuracy: 0.9990\n",
      "Epoch 6/20\n",
      "63/63 [==============================] - 1s 22ms/step - loss: 0.0000e+00 - accuracy: 1.0000 - val_loss: 0.0038 - val_accuracy: 0.9990\n",
      "Epoch 7/20\n",
      "63/63 [==============================] - 1s 22ms/step - loss: 0.0000e+00 - accuracy: 1.0000 - val_loss: 0.0038 - val_accuracy: 0.9990\n",
      "Epoch 8/20\n",
      "63/63 [==============================] - 1s 22ms/step - loss: 0.0000e+00 - accuracy: 1.0000 - val_loss: 0.0038 - val_accuracy: 0.9990\n",
      "Epoch 9/20\n",
      "63/63 [==============================] - 1s 22ms/step - loss: 0.0000e+00 - accuracy: 1.0000 - val_loss: 0.0038 - val_accuracy: 0.9990\n",
      "Epoch 10/20\n",
      "63/63 [==============================] - 1s 22ms/step - loss: 0.0000e+00 - accuracy: 1.0000 - val_loss: 0.0038 - val_accuracy: 0.9990\n",
      "Epoch 11/20\n",
      "63/63 [==============================] - 1s 22ms/step - loss: 0.0000e+00 - accuracy: 1.0000 - val_loss: 0.0038 - val_accuracy: 0.9990\n",
      "Epoch 12/20\n",
      "63/63 [==============================] - 1s 22ms/step - loss: 0.0000e+00 - accuracy: 1.0000 - val_loss: 0.0038 - val_accuracy: 0.9990\n",
      "Epoch 13/20\n",
      "63/63 [==============================] - 1s 22ms/step - loss: 0.0000e+00 - accuracy: 1.0000 - val_loss: 0.0038 - val_accuracy: 0.9990\n",
      "Epoch 14/20\n",
      "63/63 [==============================] - 1s 22ms/step - loss: 0.0000e+00 - accuracy: 1.0000 - val_loss: 0.0038 - val_accuracy: 0.9990\n",
      "Epoch 15/20\n",
      "63/63 [==============================] - 1s 22ms/step - loss: 0.0000e+00 - accuracy: 1.0000 - val_loss: 0.0038 - val_accuracy: 0.9990\n",
      "Epoch 16/20\n",
      "63/63 [==============================] - 1s 22ms/step - loss: 0.0000e+00 - accuracy: 1.0000 - val_loss: 0.0038 - val_accuracy: 0.9990\n",
      "Epoch 17/20\n",
      "63/63 [==============================] - 1s 22ms/step - loss: 0.0000e+00 - accuracy: 1.0000 - val_loss: 0.0038 - val_accuracy: 0.9990\n",
      "Epoch 18/20\n",
      "63/63 [==============================] - 1s 23ms/step - loss: 0.0000e+00 - accuracy: 1.0000 - val_loss: 0.0038 - val_accuracy: 0.9990\n",
      "Epoch 19/20\n",
      "63/63 [==============================] - 1s 22ms/step - loss: 0.0000e+00 - accuracy: 1.0000 - val_loss: 0.0038 - val_accuracy: 0.9990\n",
      "Epoch 20/20\n",
      "63/63 [==============================] - 1s 22ms/step - loss: 0.0000e+00 - accuracy: 1.0000 - val_loss: 0.0038 - val_accuracy: 0.9990\n"
     ]
    },
    {
     "data": {
      "text/plain": [
       "<keras.callbacks.History at 0x280ac8b4490>"
      ]
     },
     "execution_count": 128,
     "metadata": {},
     "output_type": "execute_result"
    }
   ],
   "source": [
    "model = models.Sequential()\n",
    "model.add(layers.Dense(64, activation='relu', input_shape=(10000,)))\n",
    "model.add(layers.Dense(4, activation='relu'))\n",
    "model.add(layers.Dense(46, activation='softmax'))\n",
    "\n",
    "model.compile(optimizer='rmsprop',\n",
    "loss='categorical_crossentropy',\n",
    "metrics=['accuracy'])\n",
    "\n",
    "model.fit(partial_x_train,\n",
    "partial_y_train,\n",
    "epochs=20,\n",
    "batch_size=128,\n",
    "validation_data=(x_val, y_val))"
   ]
  },
  {
   "cell_type": "markdown",
   "id": "d3cd247b",
   "metadata": {},
   "source": [
    "# Predicting house prices: a regression example\n",
    " The two previous examples were considered classification problems, where the goal\n",
    " was to predict a single discrete label of an input data point. Another common type of\n",
    " machine-learning problem is regression, which consists of predicting a continuous\n",
    " value instead of a discrete label: for instance, predicting the temperature tomorrow,\n",
    " given meteorological data; or predicting the time that a software project will take to\n",
    " complete, given its specifications.\n",
    " NOTE Don’t confuse regression and the algorithm logistic regression. Con\n",
    "fusingly, logistic regression isn’t a regression algorithm—it’s a classification\n",
    " algorithm."
   ]
  },
  {
   "cell_type": "markdown",
   "id": "f26c9e32",
   "metadata": {},
   "source": [
    "## Listing 3.24 Loading the Boston housing dataset"
   ]
  },
  {
   "cell_type": "code",
   "execution_count": 130,
   "id": "8dc7314f",
   "metadata": {},
   "outputs": [
    {
     "name": "stdout",
     "output_type": "stream",
     "text": [
      "Downloading data from https://storage.googleapis.com/tensorflow/tf-keras-datasets/boston_housing.npz\n",
      "57026/57026 [==============================] - 0s 4us/step\n"
     ]
    }
   ],
   "source": [
    "from keras.datasets import boston_housing\n",
    "(train_data, train_targets), (test_data, test_targets) = boston_housing.load_data()"
   ]
  },
  {
   "cell_type": "code",
   "execution_count": 131,
   "id": "1374832b",
   "metadata": {},
   "outputs": [
    {
     "data": {
      "text/plain": [
       "(404, 13)"
      ]
     },
     "execution_count": 131,
     "metadata": {},
     "output_type": "execute_result"
    }
   ],
   "source": [
    "train_data.shape"
   ]
  },
  {
   "cell_type": "code",
   "execution_count": 132,
   "id": "4526516c",
   "metadata": {},
   "outputs": [
    {
     "data": {
      "text/plain": [
       "(102, 13)"
      ]
     },
     "execution_count": 132,
     "metadata": {},
     "output_type": "execute_result"
    }
   ],
   "source": [
    "test_data.shape"
   ]
  },
  {
   "cell_type": "markdown",
   "id": "01555714",
   "metadata": {},
   "source": [
    "### Preparing the data\n",
    " It would be problematic to feed into a neural network values that all take wildly differ\n",
    "ent ranges. The network might be able to automatically adapt to such heterogeneous\n",
    " data, but it would definitely make learning more difficult. A widespread best practice\n",
    " to deal with such data is to do feature-wise normalization: for each feature in the input\n",
    " data (a column in the input data matrix), you subtract the mean of the feature and\n",
    " divide by the standard deviation, so that the feature is centered around 0 and has a\n",
    " unit standard deviation. This is easily done in Numpy."
   ]
  },
  {
   "cell_type": "markdown",
   "id": "4509e816",
   "metadata": {},
   "source": [
    "### Listing 3.25 Normalizing the data"
   ]
  },
  {
   "cell_type": "code",
   "execution_count": 133,
   "id": "390d43fa",
   "metadata": {},
   "outputs": [],
   "source": [
    "mean = train_data.mean(axis=0)\n",
    "train_data-= mean\n",
    "std = train_data.std(axis=0)\n",
    "train_data /= std\n",
    "test_data-= mean\n",
    "test_data /= std"
   ]
  },
  {
   "cell_type": "markdown",
   "id": "62843f90",
   "metadata": {},
   "source": [
    "### Listing 3.26 Model definition"
   ]
  },
  {
   "cell_type": "code",
   "execution_count": 139,
   "id": "f2bd1ac9",
   "metadata": {},
   "outputs": [],
   "source": [
    "from keras import models\n",
    "from keras import layers\n",
    "def build_model():\n",
    "    model = models.Sequential()\n",
    "    model.add(layers.Dense(64, activation='relu',input_shape=(train_data.shape[1],)))\n",
    "    model.add(layers.Dense(64, activation='relu'))\n",
    "    model.add(layers.Dense(1))\n",
    "    model.compile(optimizer='rmsprop', loss='mse', metrics=['mae'])\n",
    "    return model"
   ]
  },
  {
   "cell_type": "markdown",
   "id": "34fc7f4b",
   "metadata": {},
   "source": [
    "### Listing 3.27 K-fold validation\n"
   ]
  },
  {
   "cell_type": "code",
   "execution_count": 143,
   "id": "60cb83ea",
   "metadata": {},
   "outputs": [
    {
     "name": "stdout",
     "output_type": "stream",
     "text": [
      "processing fold # 0\n",
      "processing fold # 1\n",
      "processing fold # 2\n",
      "processing fold # 3\n"
     ]
    }
   ],
   "source": [
    "import numpy as np\n",
    "\n",
    "k = 4  # Number of folds for cross-validation\n",
    "num_val_samples = len(train_data) // k  # Samples per fold for validation\n",
    "num_epochs = 100  # Number of training epochs for each fold\n",
    "all_scores = []  # List to store evaluation scores from each fold\n",
    "\n",
    "# Perform k-fold cross-validation\n",
    "for i in range(k):\n",
    "    print('processing fold #', i)\n",
    "    \n",
    "    # Prepare the validation data: the i-th segment of the training data\n",
    "    val_data = train_data[i * num_val_samples: (i + 1) * num_val_samples]\n",
    "    val_targets = train_targets[i * num_val_samples: (i + 1) * num_val_samples]\n",
    "    \n",
    "    # Prepare the training data: all data except the i-th validation fold\n",
    "    partial_train_data = np.concatenate([\n",
    "        train_data[:i * num_val_samples],\n",
    "        train_data[(i + 1) * num_val_samples:]\n",
    "    ], axis=0)\n",
    "    \n",
    "    partial_train_targets = np.concatenate([\n",
    "        train_targets[:i * num_val_samples],\n",
    "        train_targets[(i + 1) * num_val_samples:]\n",
    "    ], axis=0)\n",
    "    \n",
    "    # Build a fresh model instance for the current fold\n",
    "    model = build_model()\n",
    "    \n",
    "    # Train the model on the partial training data for a fixed number of epochs\n",
    "    model.fit(\n",
    "        partial_train_data,\n",
    "        partial_train_targets,\n",
    "        epochs=num_epochs,\n",
    "        batch_size=1,\n",
    "        verbose=0  # Suppress per-epoch output for cleaner logs\n",
    "    )\n",
    "    \n",
    "    # Evaluate the model on the validation data and collect the mean absolute error (MAE)\n",
    "    val_mse, val_mae = model.evaluate(val_data, val_targets, verbose=0)\n",
    "    all_scores.append(val_mae)\n"
   ]
  },
  {
   "cell_type": "markdown",
   "id": "33f26073",
   "metadata": {},
   "source": [
    "### Listing 3.28 Saving the validation logs at each fold"
   ]
  },
  {
   "cell_type": "code",
   "execution_count": 147,
   "id": "91ab4ebc",
   "metadata": {},
   "outputs": [
    {
     "name": "stdout",
     "output_type": "stream",
     "text": [
      "Processing fold #0\n"
     ]
    },
    {
     "ename": "KeyError",
     "evalue": "'val_mean_absolute_error'",
     "output_type": "error",
     "traceback": [
      "\u001b[1;31m---------------------------------------------------------------------------\u001b[0m",
      "\u001b[1;31mKeyError\u001b[0m                                  Traceback (most recent call last)",
      "\u001b[1;32m~\\AppData\\Local\\Temp/ipykernel_16292/2302859088.py\u001b[0m in \u001b[0;36m<module>\u001b[1;34m\u001b[0m\n\u001b[0;32m     45\u001b[0m     \u001b[1;31m# 4) Extract the validation MAE for each epoch\u001b[0m\u001b[1;33m\u001b[0m\u001b[1;33m\u001b[0m\u001b[0m\n\u001b[0;32m     46\u001b[0m     \u001b[1;31m# ——————————————\u001b[0m\u001b[1;33m\u001b[0m\u001b[1;33m\u001b[0m\u001b[0m\n\u001b[1;32m---> 47\u001b[1;33m     \u001b[0mmae_history\u001b[0m \u001b[1;33m=\u001b[0m \u001b[0mhistory\u001b[0m\u001b[1;33m.\u001b[0m\u001b[0mhistory\u001b[0m\u001b[1;33m[\u001b[0m\u001b[1;34m'val_mean_absolute_error'\u001b[0m\u001b[1;33m]\u001b[0m\u001b[1;33m\u001b[0m\u001b[1;33m\u001b[0m\u001b[0m\n\u001b[0m\u001b[0;32m     48\u001b[0m     \u001b[0mall_mae_histories\u001b[0m\u001b[1;33m.\u001b[0m\u001b[0mappend\u001b[0m\u001b[1;33m(\u001b[0m\u001b[0mmae_history\u001b[0m\u001b[1;33m)\u001b[0m\u001b[1;33m\u001b[0m\u001b[1;33m\u001b[0m\u001b[0m\n",
      "\u001b[1;31mKeyError\u001b[0m: 'val_mean_absolute_error'"
     ]
    }
   ],
   "source": [
    "import numpy as np\n",
    "\n",
    "num_epochs = 500\n",
    "all_mae_histories = []\n",
    "\n",
    "for i in range(k):\n",
    "    print(f'Processing fold #{i}')\n",
    "\n",
    "    # ——————————————\n",
    "    # 1) Select out the validation slice for this fold\n",
    "    # ——————————————\n",
    "    start = i * num_val_samples\n",
    "    end   = (i + 1) * num_val_samples\n",
    "\n",
    "    val_data    = train_data[start:end]\n",
    "    val_targets = train_targets[start:end]\n",
    "\n",
    "    # ——————————————\n",
    "    # 2) Build the training set by stacking the other slices\n",
    "    # ——————————————\n",
    "    partial_train_data = np.concatenate([\n",
    "        train_data[:start],\n",
    "        train_data[end:]\n",
    "    ], axis=0)\n",
    "\n",
    "    partial_train_targets = np.concatenate([\n",
    "        train_targets[:start],\n",
    "        train_targets[end:]\n",
    "    ], axis=0)\n",
    "\n",
    "    # ——————————————\n",
    "    # 3) Build a fresh model, train it, and record its history\n",
    "    # ——————————————\n",
    "    model = build_model()  # your model‑building function\n",
    "    history = model.fit(\n",
    "        partial_train_data,\n",
    "        partial_train_targets,\n",
    "        validation_data=(val_data, val_targets),\n",
    "        epochs=num_epochs,\n",
    "        batch_size=1,\n",
    "        verbose=0\n",
    "    )\n",
    "\n",
    "    # ——————————————\n",
    "    # 4) Extract the validation MAE for each epoch\n",
    "    # ——————————————\n",
    "    mae_history = history.history['val_mean_absolute_error']\n",
    "    all_mae_histories.append(mae_history)\n"
   ]
  },
  {
   "cell_type": "markdown",
   "id": "e8005d06",
   "metadata": {},
   "source": [
    "### Listing 3.29 Building the history of successive mean K-fold validation score"
   ]
  },
  {
   "cell_type": "code",
   "execution_count": null,
   "id": "50c95650",
   "metadata": {},
   "outputs": [],
   "source": [
    "average_mae_history = [\n",
    " np.mean([x[i] for x in all_mae_histories]) for i in range(num_epochs)]"
   ]
  },
  {
   "cell_type": "markdown",
   "id": "b81f7f04",
   "metadata": {},
   "source": [
    "### Listing 3.30 Plotting validation scores"
   ]
  },
  {
   "cell_type": "code",
   "execution_count": null,
   "id": "05b9c768",
   "metadata": {},
   "outputs": [],
   "source": [
    "import matplotlib.pyplot as plt\n",
    "plt.plot(range(1, len(average_mae_history) + 1), average_mae_history)\n",
    "plt.xlabel('Epochs')\n",
    "plt.ylabel('Validation MAE')\n",
    "plt.show()"
   ]
  },
  {
   "cell_type": "markdown",
   "id": "a9539de2",
   "metadata": {},
   "source": [
    "### Listing 3.31 Plotting validation scores, excluding the first 10 data points"
   ]
  },
  {
   "cell_type": "code",
   "execution_count": null,
   "id": "6d95944f",
   "metadata": {},
   "outputs": [],
   "source": [
    "import matplotlib.pyplot as plt\n",
    "\n",
    "def smooth_curve(points, factor=0.9):\n",
    "    \"\"\"\n",
    "    Given a list of numeric points, return a new list where each point\n",
    "    (after the first) is a weighted average of the previous smoothed\n",
    "    point and the current raw point.\n",
    "\n",
    "    Args:\n",
    "        points (list of float): the original sequence to smooth.\n",
    "        factor (float, default=0.9): smoothing factor between 0 and 1.\n",
    "            Closer to 1 → heavier smoothing (slower response to changes);\n",
    "            closer to 0 → less smoothing.\n",
    "\n",
    "    Returns:\n",
    "        list of float: the smoothed sequence, same length as `points`.\n",
    "    \"\"\"\n",
    "    smoothed_points = []\n",
    "    for point in points:\n",
    "        if smoothed_points:\n",
    "            # Take the last smoothed value...\n",
    "            previous = smoothed_points[-1]\n",
    "            # ...and mix it with the new raw point\n",
    "            smoothed_value = previous * factor + point * (1 - factor)\n",
    "            smoothed_points.append(smoothed_value)\n",
    "        else:\n",
    "            # First point is copied unchanged\n",
    "            smoothed_points.append(point)\n",
    "    return smoothed_points\n",
    "\n",
    "# Suppose `average_mae_history` is a list of per-epoch MAE averaged\n",
    "# across folds. We typically drop the first few epochs (where values\n",
    "# can be volatile) before plotting.\n",
    "start_epoch = 10\n",
    "smooth_mae_history = smooth_curve(average_mae_history[start_epoch:])\n",
    "\n",
    "# Plot the smoothed validation MAE curve\n",
    "plt.plot(\n",
    "    range(1, len(smooth_mae_history) + 1),\n",
    "    smooth_mae_history\n",
    ")\n",
    "plt.xlabel('Epochs (after dropping first 10)')\n",
    "plt.ylabel('Validation MAE (smoothed)')\n",
    "plt.title('Smoothed Validation MAE over Epochs')\n",
    "plt.show()\n"
   ]
  },
  {
   "cell_type": "markdown",
   "id": "2158e5a1",
   "metadata": {},
   "source": [
    "### Listing 3.32 Training the final model"
   ]
  },
  {
   "cell_type": "code",
   "execution_count": null,
   "id": "b0eaa4ae",
   "metadata": {},
   "outputs": [],
   "source": [
    "model = build_model()\n",
    " model.fit(train_data, train_targets,\n",
    " epochs=80, batch_size=16, verbose=0)\n",
    "     test_mse_score, test_mae_score = model.evaluate(test_data, test_targets)"
   ]
  },
  {
   "cell_type": "code",
   "execution_count": null,
   "id": "31c29231",
   "metadata": {},
   "outputs": [],
   "source": []
  }
 ],
 "metadata": {
  "kernelspec": {
   "display_name": "Python 3 (ipykernel)",
   "language": "python",
   "name": "python3"
  },
  "language_info": {
   "codemirror_mode": {
    "name": "ipython",
    "version": 3
   },
   "file_extension": ".py",
   "mimetype": "text/x-python",
   "name": "python",
   "nbconvert_exporter": "python",
   "pygments_lexer": "ipython3",
   "version": "3.9.7"
  }
 },
 "nbformat": 4,
 "nbformat_minor": 5
}
