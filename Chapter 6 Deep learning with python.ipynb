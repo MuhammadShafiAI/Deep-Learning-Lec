{
 "cells": [
  {
   "cell_type": "markdown",
   "id": "ee04a434",
   "metadata": {},
   "source": [
    "# Listing 6.1 Word-level one-hot encoding (toy example)"
   ]
  },
  {
   "cell_type": "code",
   "execution_count": 3,
   "id": "54b26c33",
   "metadata": {},
   "outputs": [
    {
     "name": "stdout",
     "output_type": "stream",
     "text": [
      "(2, 10) 10\n",
      "0\n",
      "0 0\n",
      "0 1\n",
      "0 2\n",
      "0 3\n",
      "0 4\n",
      "1\n",
      "1 0\n",
      "1 1\n",
      "1 2\n",
      "1 3\n",
      "1 4\n"
     ]
    }
   ],
   "source": [
    "import numpy as np\n",
    "samples = ['The cat sat on mat.','The dog ate my homework']\n",
    "token_index ={}\n",
    "for sample in samples:\n",
    "    \n",
    "    for word in sample.split():\n",
    "        if word not in token_index:\n",
    "            token_index[word] =len(token_index) + 1\n",
    "            \n",
    "            \n",
    "max_length =10\n",
    "\n",
    "results = np.zeros(shape=(len(samples),max_length, max(token_index.values()) + 1))\n",
    "print((len(samples),max_length),max(token_index.values()) +1)\n",
    "for i, sample in enumerate(samples):\n",
    "    print(i)\n",
    "    for j, word in list(enumerate(sample.split()))[:max_length]:\n",
    "        print(i,j)\n",
    "        index = token_index.get(word)\n",
    "results[i, j, index] = 1.\n"
   ]
  },
  {
   "cell_type": "markdown",
   "id": "7f6f47e4",
   "metadata": {},
   "source": [
    "# Listing 6.2 Character-level one-hot encoding (toy example"
   ]
  },
  {
   "cell_type": "code",
   "execution_count": 5,
   "id": "9df5778d",
   "metadata": {},
   "outputs": [
    {
     "ename": "IndentationError",
     "evalue": "unindent does not match any outer indentation level (<tokenize>, line 14)",
     "output_type": "error",
     "traceback": [
      "\u001b[1;36m  File \u001b[1;32m\"<tokenize>\"\u001b[1;36m, line \u001b[1;32m14\u001b[0m\n\u001b[1;33m    results[i, j, index] = 1.\u001b[0m\n\u001b[1;37m    ^\u001b[0m\n\u001b[1;31mIndentationError\u001b[0m\u001b[1;31m:\u001b[0m unindent does not match any outer indentation level\n"
     ]
    }
   ],
   "source": [
    "import string\n",
    "\n",
    "samples = ['The cat sat on the mat.', 'The dog ate my homework.']\n",
    "characters = string.printable\n",
    "token_index = dict(zip(range(1, len(characters) + 1), characters))\n",
    "print(token_index)\n",
    "max_length = 50\n",
    "results = np.zeros((len(samples), max_length, max(token_index.keys()) + 1))\n",
    "  \n",
    "for i, sample in enumerate(samples):\n",
    "    for j, character in enumerate(sample):\n",
    "        index = token_index.get(character)\n",
    " \n",
    " results[i, j, index] = 1.\n"
   ]
  },
  {
   "cell_type": "markdown",
   "id": "c3e99cdd",
   "metadata": {},
   "source": [
    "# Listing 6.3 Using Keras for word-level one-hot encoding"
   ]
  },
  {
   "cell_type": "code",
   "execution_count": 11,
   "id": "67f016fd",
   "metadata": {},
   "outputs": [
    {
     "name": "stdout",
     "output_type": "stream",
     "text": [
      "<keras.preprocessing.text.Tokenizer object at 0x0000016DB7FDAFD0>\n",
      "[[1, 2, 3, 4, 5], [1, 6, 7, 8, 9]]\n",
      "[[0. 1. 1. ... 0. 0. 0.]\n",
      " [0. 1. 0. ... 0. 0. 0.]]\n",
      "Found 9 unique tokens.\n"
     ]
    }
   ],
   "source": [
    "from keras.preprocessing.text import Tokenizer\n",
    "\n",
    "samples= ['The cat sat on mat.','The dog ate my homework.']\n",
    "\n",
    "tokenizer =Tokenizer(num_words=1000)\n",
    "print(tokenizer)\n",
    "tokenizer.fit_on_texts(samples)\n",
    "\n",
    "sequences = tokenizer.texts_to_sequences(samples)\n",
    "print(sequences)\n",
    "one_hot_results =tokenizer.texts_to_matrix(samples,mode='binary')\n",
    "print(one_hot_results)\n",
    "word_index=tokenizer.word_index\n",
    "print('Found %s unique tokens.' % len(word_index))"
   ]
  },
  {
   "cell_type": "markdown",
   "id": "04e1f49d",
   "metadata": {},
   "source": [
    "# Listing 6.4 Word-level one-hot encoding with hashing trick (toy example)"
   ]
  },
  {
   "cell_type": "code",
   "execution_count": 15,
   "id": "18e702c6",
   "metadata": {},
   "outputs": [
    {
     "name": "stdout",
     "output_type": "stream",
     "text": [
      "840\n",
      "859\n",
      "980\n",
      "476\n",
      "674\n",
      "840\n",
      "258\n",
      "99\n",
      "371\n",
      "289\n"
     ]
    }
   ],
   "source": [
    "samples = ['The cat sat on mat.','The dog ate my homework.']\n",
    "dimensionality =1000\n",
    "max_length = 10\n",
    "\n",
    "results = np.zeros((len(samples),max_length, dimensionality))\n",
    "for i,sample in enumerate(samples):\n",
    "    for j,word in list(enumerate(sample.split()))[:max_length]:\n",
    "        index =abs(hash(word)) % dimensionality\n",
    "        print(index)\n",
    "        results[i,j,index]=1."
   ]
  },
  {
   "cell_type": "markdown",
   "id": "1cde4b04",
   "metadata": {},
   "source": [
    "# Listing 6.5 Instantiating an Embedding layer"
   ]
  },
  {
   "cell_type": "code",
   "execution_count": 85,
   "id": "3f1d3976",
   "metadata": {},
   "outputs": [],
   "source": [
    "from keras.layers import Embedding\n",
    "embedding_layer = Embedding(1000, 64)"
   ]
  },
  {
   "cell_type": "markdown",
   "id": "93591b53",
   "metadata": {},
   "source": [
    "# Listing 6.6 Loading the IMDB data for use with an Embedding layer"
   ]
  },
  {
   "cell_type": "code",
   "execution_count": 89,
   "id": "296f29a9",
   "metadata": {},
   "outputs": [
    {
     "ename": "SyntaxError",
     "evalue": "cannot assign to function call (Temp/ipykernel_10684/2816430241.py, line 5)",
     "output_type": "error",
     "traceback": [
      "\u001b[1;36m  File \u001b[1;32m\"C:\\Users\\HP\\AppData\\Local\\Temp/ipykernel_10684/2816430241.py\"\u001b[1;36m, line \u001b[1;32m5\u001b[0m\n\u001b[1;33m    maxlen = 20(x_train, y_train), (x_test, y_test) = imdb.load_data(num_words=max_features)\u001b[0m\n\u001b[1;37m             ^\u001b[0m\n\u001b[1;31mSyntaxError\u001b[0m\u001b[1;31m:\u001b[0m cannot assign to function call\n"
     ]
    }
   ],
   "source": [
    "from keras.datasets import imdb\n",
    "from keras import preprocessing\n",
    "\n",
    "max_features = 10000\n",
    "maxlen = 20(x_train, y_train), (x_test, y_test) = imdb.load_data(num_words=max_features)\n",
    "x_train = preprocessing.sequence.pad_sequences(x_train, maxlen=maxlen\n",
    "x_test = preprocessing.sequence.pad_sequences(x_test, maxlen=maxlen)\n",
    "                                             "
   ]
  },
  {
   "cell_type": "markdown",
   "id": "b240f050",
   "metadata": {},
   "source": [
    "# Listing 6.7 Using an Embedding layer and classifier on the IMDB data"
   ]
  },
  {
   "cell_type": "code",
   "execution_count": 90,
   "id": "8995b01f",
   "metadata": {},
   "outputs": [
    {
     "ename": "SyntaxError",
     "evalue": "cannot assign to function call (Temp/ipykernel_10684/1226768872.py, line 4)",
     "output_type": "error",
     "traceback": [
      "\u001b[1;36m  File \u001b[1;32m\"C:\\Users\\HP\\AppData\\Local\\Temp/ipykernel_10684/1226768872.py\"\u001b[1;36m, line \u001b[1;32m4\u001b[0m\n\u001b[1;33m    maxlen = 20(x_train, y_train), (x_test, y_test) = imdb.load_data(num_words=max_features)\u001b[0m\n\u001b[1;37m             ^\u001b[0m\n\u001b[1;31mSyntaxError\u001b[0m\u001b[1;31m:\u001b[0m cannot assign to function call\n"
     ]
    }
   ],
   "source": [
    "from keras.models import Sequential\n",
    "from keras.layers import Flatten, Dense\n",
    "model = Sequential()\n",
    "maxlen = 20(x_train, y_train), (x_test, y_test) = imdb.load_data(num_words=max_features)\n",
    "model.add(Embedding(10000, 8, input_length=maxlen))\n",
    "\n",
    "model.add(Flatten())\n",
    "model.add(Dense(1, activation='sigmoid'))\n",
    "model.compile(optimizer='rmsprop', loss='binary_crossentropy', metrics=['acc'])\n",
    "model.summary()\n",
    "history = model.fit(x_train, y_train, epochs=10,batch_size=32,validation_split=0.2)"
   ]
  },
  {
   "cell_type": "markdown",
   "id": "a05def4c",
   "metadata": {},
   "source": [
    "# Listing 6.8 Processing the labels of the raw IMDB data"
   ]
  },
  {
   "cell_type": "code",
   "execution_count": 16,
   "id": "e29c4889",
   "metadata": {
    "scrolled": true
   },
   "outputs": [
    {
     "ename": "FileNotFoundError",
     "evalue": "[WinError 3] The system cannot find the path specified: 'C:/Users/HP/Downloads/aclImdb/aclImdb\\\\train\\\\neg'",
     "output_type": "error",
     "traceback": [
      "\u001b[1;31m---------------------------------------------------------------------------\u001b[0m",
      "\u001b[1;31mFileNotFoundError\u001b[0m                         Traceback (most recent call last)",
      "\u001b[1;32m~\\AppData\\Local\\Temp/ipykernel_9420/341690299.py\u001b[0m in \u001b[0;36m<module>\u001b[1;34m\u001b[0m\n\u001b[0;32m     10\u001b[0m \u001b[1;32mfor\u001b[0m \u001b[0mlabel_type\u001b[0m \u001b[1;32min\u001b[0m \u001b[1;33m[\u001b[0m\u001b[1;34m'neg'\u001b[0m\u001b[1;33m,\u001b[0m \u001b[1;34m'pos'\u001b[0m\u001b[1;33m]\u001b[0m\u001b[1;33m:\u001b[0m\u001b[1;33m\u001b[0m\u001b[1;33m\u001b[0m\u001b[0m\n\u001b[0;32m     11\u001b[0m     \u001b[0mdir_name\u001b[0m \u001b[1;33m=\u001b[0m \u001b[0mos\u001b[0m\u001b[1;33m.\u001b[0m\u001b[0mpath\u001b[0m\u001b[1;33m.\u001b[0m\u001b[0mjoin\u001b[0m\u001b[1;33m(\u001b[0m\u001b[0mtrain_dir\u001b[0m\u001b[1;33m,\u001b[0m \u001b[0mlabel_type\u001b[0m\u001b[1;33m)\u001b[0m\u001b[1;33m\u001b[0m\u001b[1;33m\u001b[0m\u001b[0m\n\u001b[1;32m---> 12\u001b[1;33m     \u001b[1;32mfor\u001b[0m \u001b[0mfname\u001b[0m \u001b[1;32min\u001b[0m \u001b[0mos\u001b[0m\u001b[1;33m.\u001b[0m\u001b[0mlistdir\u001b[0m\u001b[1;33m(\u001b[0m\u001b[0mdir_name\u001b[0m\u001b[1;33m)\u001b[0m\u001b[1;33m:\u001b[0m\u001b[1;33m\u001b[0m\u001b[1;33m\u001b[0m\u001b[0m\n\u001b[0m\u001b[0;32m     13\u001b[0m         \u001b[1;32mif\u001b[0m \u001b[0mfname\u001b[0m\u001b[1;33m.\u001b[0m\u001b[0mendswith\u001b[0m\u001b[1;33m(\u001b[0m\u001b[1;34m'.txt'\u001b[0m\u001b[1;33m)\u001b[0m\u001b[1;33m:\u001b[0m\u001b[1;33m\u001b[0m\u001b[1;33m\u001b[0m\u001b[0m\n\u001b[0;32m     14\u001b[0m             \u001b[0mf\u001b[0m \u001b[1;33m=\u001b[0m \u001b[0mopen\u001b[0m\u001b[1;33m(\u001b[0m\u001b[0mos\u001b[0m\u001b[1;33m.\u001b[0m\u001b[0mpath\u001b[0m\u001b[1;33m.\u001b[0m\u001b[0mjoin\u001b[0m\u001b[1;33m(\u001b[0m\u001b[0mdir_name\u001b[0m\u001b[1;33m,\u001b[0m \u001b[0mfname\u001b[0m\u001b[1;33m)\u001b[0m\u001b[1;33m,\u001b[0m \u001b[0mencoding\u001b[0m\u001b[1;33m=\u001b[0m\u001b[1;34m'utf8'\u001b[0m\u001b[1;33m)\u001b[0m\u001b[1;33m\u001b[0m\u001b[1;33m\u001b[0m\u001b[0m\n",
      "\u001b[1;31mFileNotFoundError\u001b[0m: [WinError 3] The system cannot find the path specified: 'C:/Users/HP/Downloads/aclImdb/aclImdb\\\\train\\\\neg'"
     ]
    }
   ],
   "source": [
    "import os\n",
    "\n",
    "imdb_dir = 'C:/Users/HP/Downloads/aclImdb/aclImdb'\n",
    "\n",
    "train_dir = os.path.join(imdb_dir, 'train')\n",
    "\n",
    "labels = []\n",
    "texts = []\n",
    "\n",
    "for label_type in ['neg', 'pos']:\n",
    "    dir_name = os.path.join(train_dir, label_type)\n",
    "    for fname in os.listdir(dir_name):\n",
    "        if fname.endswith('.txt'):\n",
    "            f = open(os.path.join(dir_name, fname), encoding='utf8')\n",
    "            texts.append(f.read())\n",
    "            f.close()\n",
    "            if label_type == 'neg':\n",
    "                labels.append(0)\n",
    "            else:\n",
    "                labels.append(1)\n"
   ]
  },
  {
   "cell_type": "markdown",
   "id": "17f390aa",
   "metadata": {},
   "source": [
    "# Listing 6.9 Tokenizing the text of the raw IMDB data"
   ]
  },
  {
   "cell_type": "code",
   "execution_count": 109,
   "id": "fa6ae8f3",
   "metadata": {},
   "outputs": [
    {
     "name": "stdout",
     "output_type": "stream",
     "text": [
      "Found 88582 unique tokens.\n",
      "Shape of data tensor: (25000, 100)\n",
      "Shape of label tensor: (25000,)\n"
     ]
    }
   ],
   "source": [
    "from tensorflow.keras.preprocessing.text import Tokenizer\n",
    "from tensorflow.keras.preprocessing.sequence import pad_sequences\n",
    "\n",
    "import numpy as np\n",
    "\n",
    "maxlen = 100\n",
    "training_samples = 200\n",
    "validation_samples = 10000\n",
    "max_words = 10000\n",
    "tokenizer = Tokenizer(num_words=max_words)\n",
    "tokenizer.fit_on_texts(texts)\n",
    "sequences = tokenizer.texts_to_sequences(texts)\n",
    "word_index = tokenizer.word_index\n",
    "print('Found %s unique tokens.' % len(word_index))\n",
    "data = pad_sequences(sequences, maxlen=maxlen)\n",
    "labels = np.asarray(labels)\n",
    "print('Shape of data tensor:', data.shape)\n",
    "print('Shape of label tensor:', labels.shape)\n",
    "indices = np.arange(data.shape[0])\n",
    "np.random.shuffle(indices)\n",
    "data = data[indices]\n",
    "labels = labels[indices]\n",
    "x_train = data[:training_samples]\n",
    "y_train = labels[:training_samples]\n",
    "x_val = data[training_samples: training_samples + validation_samples]\n",
    "y_val = labels[training_samples: training_samples + validation_samples]"
   ]
  },
  {
   "cell_type": "markdown",
   "id": "daa4559a",
   "metadata": {},
   "source": [
    "# Listing 6.10 Parsing the GloVe word-embeddings file"
   ]
  },
  {
   "cell_type": "code",
   "execution_count": 116,
   "id": "3e8b93e3",
   "metadata": {},
   "outputs": [
    {
     "name": "stdout",
     "output_type": "stream",
     "text": [
      "Found 400000 word vectors.\n"
     ]
    }
   ],
   "source": [
    "import os\n",
    "import numpy as np\n",
    "\n",
    "glove_dir = r'C:\\Users\\HP\\Downloads\\glove.6B'\n",
    "\n",
    "embeddings_index = {}\n",
    "\n",
    "with open(os.path.join(glove_dir, 'glove.6B.100d.txt'), encoding='utf8') as f:\n",
    "    for line in f:\n",
    "        values = line.split()\n",
    "        word = values[0]\n",
    "        coefs = np.asarray(values[1:], dtype='float32')\n",
    "        embeddings_index[word] = coefs\n",
    "\n",
    "print('Found %s word vectors.' % len(embeddings_index))\n"
   ]
  },
  {
   "cell_type": "markdown",
   "id": "10e33238",
   "metadata": {},
   "source": [
    "# Listing 6.11 Preparing the GloVe word-embeddings matrix"
   ]
  },
  {
   "cell_type": "code",
   "execution_count": 117,
   "id": "c668222f",
   "metadata": {},
   "outputs": [],
   "source": [
    "embedding_dim = 100\n",
    "embedding_matrix = np.zeros((max_words, embedding_dim))\n",
    "\n",
    "for word, i in word_index.items():\n",
    "    if i < max_words:\n",
    "        embedding_vector = embeddings_index.get(word)\n",
    "        if embedding_vector is not None:\n",
    "            embedding_matrix[i] = embedding_vector\n"
   ]
  },
  {
   "cell_type": "markdown",
   "id": "1db5b4d5",
   "metadata": {},
   "source": [
    "# Listing 6.12 Model definition"
   ]
  },
  {
   "cell_type": "code",
   "execution_count": 121,
   "id": "ca7d0f20",
   "metadata": {},
   "outputs": [
    {
     "name": "stdout",
     "output_type": "stream",
     "text": [
      "Model: \"sequential_1\"\n",
      "_________________________________________________________________\n",
      " Layer (type)                Output Shape              Param #   \n",
      "=================================================================\n",
      " embedding_2 (Embedding)     (None, 100, 100)          1000000   \n",
      "                                                                 \n",
      " flatten (Flatten)           (None, 10000)             0         \n",
      "                                                                 \n",
      " dense (Dense)               (None, 32)                320032    \n",
      "                                                                 \n",
      " dense_1 (Dense)             (None, 1)                 33        \n",
      "                                                                 \n",
      "=================================================================\n",
      "Total params: 1,320,065\n",
      "Trainable params: 1,320,065\n",
      "Non-trainable params: 0\n",
      "_________________________________________________________________\n"
     ]
    }
   ],
   "source": [
    "from keras.models import Sequential\n",
    "from keras.layers import Embedding,Flatten,Dense\n",
    "\n",
    "model = Sequential()\n",
    "model.add(Embedding(max_words,embedding_dim,input_length=maxlen))\n",
    "model.add(Flatten())\n",
    "model.add(Dense(32,activation='relu'))\n",
    "model.add(Dense(1,activation='sigmoid'))\n",
    "model.summary()\n"
   ]
  },
  {
   "cell_type": "markdown",
   "id": "6c2c99a4",
   "metadata": {},
   "source": [
    "# Listing 6.13 Loading pretrained word embeddings into the Embedding layer"
   ]
  },
  {
   "cell_type": "code",
   "execution_count": 122,
   "id": "622fe4ac",
   "metadata": {},
   "outputs": [],
   "source": [
    "model.layers[0].set_weights([embedding_matrix])\n",
    "model.layers[0].trainable = False"
   ]
  },
  {
   "cell_type": "markdown",
   "id": "645845a6",
   "metadata": {},
   "source": [
    "# Listing 6.14 Training and evaluation"
   ]
  },
  {
   "cell_type": "code",
   "execution_count": 123,
   "id": "2c380f20",
   "metadata": {},
   "outputs": [
    {
     "name": "stdout",
     "output_type": "stream",
     "text": [
      "Epoch 1/10\n",
      "7/7 [==============================] - 4s 302ms/step - loss: 1.6370 - acc: 0.5250 - val_loss: 0.7551 - val_acc: 0.5040\n",
      "Epoch 2/10\n",
      "7/7 [==============================] - 1s 226ms/step - loss: 0.6565 - acc: 0.6100 - val_loss: 1.0288 - val_acc: 0.4973\n",
      "Epoch 3/10\n",
      "7/7 [==============================] - 1s 221ms/step - loss: 0.4321 - acc: 0.7950 - val_loss: 1.0927 - val_acc: 0.5024\n",
      "Epoch 4/10\n",
      "7/7 [==============================] - 1s 223ms/step - loss: 0.3967 - acc: 0.8200 - val_loss: 0.8324 - val_acc: 0.5105\n",
      "Epoch 5/10\n",
      "7/7 [==============================] - 1s 222ms/step - loss: 0.3404 - acc: 0.8600 - val_loss: 1.0551 - val_acc: 0.5026\n",
      "Epoch 6/10\n",
      "7/7 [==============================] - 1s 226ms/step - loss: 0.2659 - acc: 0.8950 - val_loss: 0.9846 - val_acc: 0.5026\n",
      "Epoch 7/10\n",
      "7/7 [==============================] - 1s 222ms/step - loss: 0.1499 - acc: 0.9700 - val_loss: 1.0803 - val_acc: 0.5105\n",
      "Epoch 8/10\n",
      "7/7 [==============================] - 1s 218ms/step - loss: 0.0733 - acc: 0.9900 - val_loss: 0.7748 - val_acc: 0.5847\n",
      "Epoch 9/10\n",
      "7/7 [==============================] - 1s 224ms/step - loss: 0.0283 - acc: 1.0000 - val_loss: 1.1128 - val_acc: 0.5304\n",
      "Epoch 10/10\n",
      "7/7 [==============================] - 2s 248ms/step - loss: 0.4236 - acc: 0.8650 - val_loss: 0.7629 - val_acc: 0.5838\n"
     ]
    }
   ],
   "source": [
    "model.compile(\n",
    "    optimizer='rmsprop',\n",
    "    loss='binary_crossentropy',\n",
    "    metrics=['acc']\n",
    ")\n",
    "\n",
    "history = model.fit(\n",
    "    x_train,\n",
    "    y_train,\n",
    "    epochs=10,\n",
    "    batch_size=32,\n",
    "    validation_data=(x_val, y_val)\n",
    ")\n",
    "\n",
    "model.save_weights('pre_trained_glove_model.h5')\n"
   ]
  },
  {
   "cell_type": "markdown",
   "id": "5d31a14e",
   "metadata": {},
   "source": [
    "# Listing 6.15 Plotting the results"
   ]
  },
  {
   "cell_type": "code",
   "execution_count": 124,
   "id": "dee252d1",
   "metadata": {},
   "outputs": [
    {
     "data": {
      "image/png": "[encoded data removed]",
      "text/plain": [
       "<Figure size 432x288 with 1 Axes>"
      ]
     },
     "metadata": {
      "needs_background": "light"
     },
     "output_type": "display_data"
    },
    {
     "data": {
      "image/png": "[encoded data removed]",
      "text/plain": [
       "<Figure size 432x288 with 1 Axes>"
      ]
     },
     "metadata": {
      "needs_background": "light"
     },
     "output_type": "display_data"
    }
   ],
   "source": [
    "import matplotlib.pyplot as plt\n",
    "\n",
    "# Extract accuracy and loss from training history\n",
    "acc = history.history['acc']\n",
    "val_acc = history.history['val_acc']\n",
    "loss = history.history['loss']\n",
    "val_loss = history.history['val_loss']\n",
    "epochs = range(1, len(acc) + 1)\n",
    "\n",
    "# Plot training and validation accuracy\n",
    "plt.plot(epochs, acc, 'bo', label='Training acc')        # 'bo' is for blue dots\n",
    "plt.plot(epochs, val_acc, 'b', label='Validation acc')   # 'b' is for blue line\n",
    "plt.title('Training and Validation Accuracy')\n",
    "plt.xlabel('Epochs')\n",
    "plt.ylabel('Accuracy')\n",
    "plt.legend()\n",
    "\n",
    "# Start a new figure for loss\n",
    "plt.figure()\n",
    "\n",
    "# Plot training and validation loss\n",
    "plt.plot(epochs, loss, 'bo', label='Training loss')\n",
    "plt.plot(epochs, val_loss, 'b', label='Validation loss')\n",
    "plt.title('Training and Validation Loss')\n",
    "plt.xlabel('Epochs')\n",
    "plt.ylabel('Loss')\n",
    "plt.legend()\n",
    "\n",
    "# Show both plots\n",
    "plt.show()\n"
   ]
  },
  {
   "cell_type": "markdown",
   "id": "602c65a5",
   "metadata": {},
   "source": [
    "## Listing 6.16 Training the same model without pretrained word embeddings"
   ]
  },
  {
   "cell_type": "code",
   "execution_count": 126,
   "id": "871dde86",
   "metadata": {},
   "outputs": [
    {
     "name": "stdout",
     "output_type": "stream",
     "text": [
      "Model: \"sequential_2\"\n",
      "_________________________________________________________________\n",
      " Layer (type)                Output Shape              Param #   \n",
      "=================================================================\n",
      " embedding_3 (Embedding)     (None, 100, 100)          1000000   \n",
      "                                                                 \n",
      " flatten_1 (Flatten)         (None, 10000)             0         \n",
      "                                                                 \n",
      " dense_2 (Dense)             (None, 32)                320032    \n",
      "                                                                 \n",
      " dense_3 (Dense)             (None, 1)                 33        \n",
      "                                                                 \n",
      "=================================================================\n",
      "Total params: 1,320,065\n",
      "Trainable params: 1,320,065\n",
      "Non-trainable params: 0\n",
      "_________________________________________________________________\n",
      "Epoch 1/10\n",
      "7/7 [==============================] - 3s 271ms/step - loss: 0.6928 - acc: 0.5450 - val_loss: 0.6919 - val_acc: 0.5215\n",
      "Epoch 2/10\n",
      "7/7 [==============================] - 1s 222ms/step - loss: 0.5765 - acc: 0.9900 - val_loss: 0.6914 - val_acc: 0.5239\n",
      "Epoch 3/10\n",
      "7/7 [==============================] - 1s 217ms/step - loss: 0.4432 - acc: 0.9950 - val_loss: 0.6906 - val_acc: 0.5322\n",
      "Epoch 4/10\n",
      "7/7 [==============================] - 1s 222ms/step - loss: 0.2866 - acc: 1.0000 - val_loss: 0.6909 - val_acc: 0.5372\n",
      "Epoch 5/10\n",
      "7/7 [==============================] - 1s 217ms/step - loss: 0.1698 - acc: 1.0000 - val_loss: 0.6939 - val_acc: 0.5386\n",
      "Epoch 6/10\n",
      "7/7 [==============================] - 1s 222ms/step - loss: 0.0984 - acc: 1.0000 - val_loss: 0.6971 - val_acc: 0.5386\n",
      "Epoch 7/10\n",
      "7/7 [==============================] - 2s 251ms/step - loss: 0.0599 - acc: 1.0000 - val_loss: 0.7020 - val_acc: 0.5418\n",
      "Epoch 8/10\n",
      "7/7 [==============================] - 2s 283ms/step - loss: 0.0380 - acc: 1.0000 - val_loss: 0.7045 - val_acc: 0.5429\n",
      "Epoch 9/10\n",
      "7/7 [==============================] - 2s 320ms/step - loss: 0.0253 - acc: 1.0000 - val_loss: 0.7121 - val_acc: 0.5392\n",
      "Epoch 10/10\n",
      "7/7 [==============================] - 2s 302ms/step - loss: 0.0176 - acc: 1.0000 - val_loss: 0.7218 - val_acc: 0.5394\n"
     ]
    }
   ],
   "source": [
    "from keras.models import Sequential\n",
    "from keras.layers import Embedding, Flatten, Dense\n",
    "\n",
    "# Initialize the model\n",
    "model = Sequential()\n",
    "\n",
    "# Add layers\n",
    "model.add(Embedding(max_words, embedding_dim, input_length=maxlen))  # Embedding layer to learn word vectors\n",
    "model.add(Flatten())                                                 # Flatten the 3D embedding tensor to 2D\n",
    "model.add(Dense(32, activation='relu'))                              # Fully connected layer with ReLU\n",
    "model.add(Dense(1, activation='sigmoid'))                            # Output layer with sigmoid for binary classification\n",
    "\n",
    "# Model summary\n",
    "model.summary()\n",
    "\n",
    "# Compile the model\n",
    "model.compile(\n",
    "    optimizer='rmsprop',                # Optimizer for gradient descent\n",
    "    loss='binary_crossentropy',         # Suitable for binary classification\n",
    "    metrics=['acc']                     # Accuracy metric\n",
    ")\n",
    "\n",
    "# Fit the model on training data\n",
    "history = model.fit(\n",
    "    x_train, y_train,                   # Training data\n",
    "    epochs=10,                          # Number of passes through the full dataset\n",
    "    batch_size=32,                      # Number of samples per gradient update\n",
    "    validation_data=(x_val, y_val)     # Data for evaluating loss and accuracy after each epoch\n",
    ")\n"
   ]
  },
  {
   "cell_type": "code",
   "execution_count": null,
   "id": "7ba85fce",
   "metadata": {},
   "outputs": [],
   "source": []
  }
 ],
 "metadata": {
  "kernelspec": {
   "display_name": "Python 3 (ipykernel)",
   "language": "python",
   "name": "python3"
  },
  "language_info": {
   "codemirror_mode": {
    "name": "ipython",
    "version": 3
   },
   "file_extension": ".py",
   "mimetype": "text/x-python",
   "name": "python",
   "nbconvert_exporter": "python",
   "pygments_lexer": "ipython3",
   "version": "3.9.7"
  }
 },
 "nbformat": 4,
 "nbformat_minor": 5
}
